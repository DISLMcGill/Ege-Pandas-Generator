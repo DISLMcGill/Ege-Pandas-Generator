{
 "cells": [
  {
   "cell_type": "code",
   "execution_count": 1,
   "id": "32231ff6",
   "metadata": {},
   "outputs": [],
   "source": [
    "import matplotlib.pyplot as plt\n",
    "\n",
    "import numpy as np\n"
   ]
  },
  {
   "cell_type": "code",
   "execution_count": 2,
   "id": "c302b226",
   "metadata": {},
   "outputs": [],
   "source": [
    "# 2 people, \n",
    "\n",
    "x_num_user = [2, 3, 4, 5, 6, 7, 8, 9]\n",
    "y_time_elapsed_ms = [19286, 30364, 33941, 35567, 41500,48303,\n",
    "                     61332, 71869\n",
    "                    ]\n",
    "y_time_elapsed_ms_2 = [18366, 29722, 44606, 36787, 42500, 45986,\n",
    "                     55232,  65869, \n",
    "                    ]\n",
    "\n",
    "y_time_elapsed_ms_3 = [21003, 23446, 32711, 39619, 41055, 50586,\n",
    "                     62147,  72739, \n",
    "                    ]\n",
    "\n",
    "\n",
    "\n",
    "\n",
    "\n",
    "\n",
    "\n"
   ]
  },
  {
   "cell_type": "code",
   "execution_count": 3,
   "id": "09309f97",
   "metadata": {},
   "outputs": [],
   "source": [
    "# plt.plot(x_num_user, y_time_elapsed_ms, label = \"interval = 100\")\n",
    "# plt.plot(x_num_user, y_time_elapsed_ms_2, label = \"interval = 10\")\n",
    "# plt.plot(x_num_user, y_time_elapsed_ms_3, label = \"interval = 5\")\n",
    "# plt.legend(loc=\"upper left\")\n",
    "# plt.title(\"# of users v.s. time elapsed graph\")\n",
    "# plt.xlabel(\"# of users\")\n",
    "# plt.ylabel(\"time elapsed (ms)\")\n",
    "\n",
    "# plt.show()"
   ]
  },
  {
   "cell_type": "code",
   "execution_count": 4,
   "id": "f806bfaf",
   "metadata": {},
   "outputs": [],
   "source": [
    "def get_rate_message(time_elpased):\n",
    "    res = []\n",
    "    for i, t in enumerate(time_elpased):\n",
    "        res.append((i+2)*100 / t * 1000)\n",
    "    return res"
   ]
  },
  {
   "cell_type": "code",
   "execution_count": 7,
   "id": "847251e7",
   "metadata": {},
   "outputs": [],
   "source": [
    "y_1 = get_rate_message(y_time_elapsed_ms)\n",
    "y_2 = get_rate_message(y_time_elapsed_ms_2)\n",
    "y_3 = get_rate_message(y_time_elapsed_ms_3)"
   ]
  },
  {
   "cell_type": "code",
   "execution_count": 8,
   "id": "ecdd70f4",
   "metadata": {},
   "outputs": [
    {
     "data": {
      "image/png": "[encoded data removed]",
      "text/plain": [
       "<Figure size 432x288 with 1 Axes>"
      ]
     },
     "metadata": {
      "needs_background": "light"
     },
     "output_type": "display_data"
    }
   ],
   "source": [
    "\n",
    "\n",
    "plt.plot(x_num_user, y_1, label = \"interval = 100\")\n",
    "plt.plot(x_num_user, y_2, label = \"interval = 10\")\n",
    "plt.plot(x_num_user, y_3, label = \"interval = 5\")\n",
    "plt.legend(loc=\"upper left\")\n",
    "plt.title(\"# of users v.s. # of message graph \")\n",
    "plt.xlabel(\"# of users\")\n",
    "plt.ylabel(\"average message received\")\n",
    "\n",
    "plt.show()"
   ]
  },
  {
   "cell_type": "code",
   "execution_count": null,
   "id": "f14a7b80",
   "metadata": {},
   "outputs": [],
   "source": [
    "# x_num_user = [2, 3, 4, 5, 6, 7, 8, 9]\n",
    "# y_time_elapsed_ms——2 = [(18366,18468), (29722, 29898), (44606, 44664), (36787, 37072), (42500, 42511), (45986, 46327),\n",
    "#                      (55232, 55571), (1869, 71838)\n",
    "#                     ]\n",
    "# plt.plot(x_num_user, y_time_elapsed_ms)\n",
    "# plt.title(\"# of users v.s. time elapsed graph with interval = 10\")\n",
    "# plt.xlabel(\"# of users\")\n",
    "# plt.ylabel(\"time elapsed (ms)\")"
   ]
  },
  {
   "cell_type": "code",
   "execution_count": null,
   "id": "e4b63c62",
   "metadata": {},
   "outputs": [],
   "source": [
    "# x = np.linspace(0, 20, 1000)\n",
    "# y1 = np.sin(x)\n",
    "# y2 = np.cos(x)\n",
    "\n",
    "# plt.plot(x, y1, \"-b\", label=\"sine\")\n",
    "# plt.plot(x, y2, \"-r\", label=\"cosine\")\n",
    "# plt.legend(loc=\"upper left\")\n",
    "# plt.ylim(-1.5, 2.0)\n",
    "# plt.show()"
   ]
  },
  {
   "cell_type": "code",
   "execution_count": null,
   "id": "bac50708",
   "metadata": {},
   "outputs": [],
   "source": [
    "x = [0, 2, 5, 10 ,20, 100, 200, 1000]\n",
    "x_ = [1, 2, 3, 4, 5, 6, 7, 8]\n",
    "y_2 =[5.365,5.357 ,5.54 , 4.36, 4.31, 4.996, 4.3207, 1.585][::-1]\n",
    "y_5 = [10.46, 10.35, 10.27, 8.81, 9.78, 10.45, 10.04, 3.95][::-1]\n",
    "y_9 = [14.60, 15.01, 14.65, 15.89,15.39, 14.86, 14.94, 7.05][::-1]\n",
    "plt.plot(x_, y_2, label = \"players=2\")\n",
    "plt.plot(x_, y_5, label = \"players=5\")\n",
    "plt.plot(x_, y_9, label = \"players=9\")\n",
    "plt.legend(loc=\"upper left\")\n",
    "plt.title(\"intervals v.s. max moves graph \")\n",
    "plt.xlabel(\"intervals = [1000,200,100,20,10,5,2,0]\")\n",
    "plt.ylabel(\"max moves received\")\n",
    "\n",
    "plt.show()"
   ]
  }
 ],
 "metadata": {
  "kernelspec": {
   "display_name": "Python 3 (ipykernel)",
   "language": "python",
   "name": "python3"
  },
  "language_info": {
   "codemirror_mode": {
    "name": "ipython",
    "version": 3
   },
   "file_extension": ".py",
   "mimetype": "text/x-python",
   "name": "python",
   "nbconvert_exporter": "python",
   "pygments_lexer": "ipython3",
   "version": "3.9.7"
  }
 },
 "nbformat": 4,
 "nbformat_minor": 5
}
